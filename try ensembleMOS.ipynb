{
 "cells": [
  {
   "cell_type": "code",
   "execution_count": 6,
   "metadata": {
    "collapsed": false
   },
   "outputs": [
    {
     "name": "stderr",
     "output_type": "stream",
     "text": [
      "Updating HTML index of packages in '.Library'\n",
      "Making 'packages.html' ... done\n"
     ]
    }
   ],
   "source": [
    "install.packages(\"ensembleMOS\")"
   ]
  },
  {
   "cell_type": "code",
   "execution_count": 5,
   "metadata": {
    "collapsed": false
   },
   "outputs": [
    {
     "name": "stderr",
     "output_type": "stream",
     "text": [
      "Loading required package: ensembleBMA\n",
      "Loading required package: chron\n",
      "Loading required package: evd\n",
      "\n",
      "Attaching package: ‘ensembleMOS’\n",
      "\n",
      "The following objects are masked from ‘package:ensembleBMA’:\n",
      "\n",
      "    brierScore, cdf, crps, quantileForecast, trainingData\n",
      "\n"
     ]
    }
   ],
   "source": [
    "library(ensembleMOS)"
   ]
  },
  {
   "cell_type": "code",
   "execution_count": 8,
   "metadata": {
    "collapsed": false
   },
   "outputs": [
    {
     "data": {
      "text/html": [
       "<pre class=language-r><code>function (ensembleData, trainingDays, dates = NULL, control = NULL, \n",
       "    model = NULL, exchangeable = NULL, minCRPS = NULL) \n",
       "{\n",
       "    if (!inherits(ensembleData, \"ensembleData\")) \n",
       "        stop(\"not an ensembleData object\")\n",
       "    mc &lt;- match.call()\n",
       "    mc$model &lt;- NULL\n",
       "    switch(model, normal = {\n",
       "        mc[[1]] &lt;- as.name(\"ensembleBMAnormal\")\n",
       "    }, gamma0 = {\n",
       "        mc[[1]] &lt;- as.name(\"ensembleBMAgamma0\")\n",
       "        if (!is.null(minCRPS)) {\n",
       "            if (minCRPS) warning(\"minCRPS not available for gamma0 model\")\n",
       "            mc$minCRPS &lt;- NULL\n",
       "        }\n",
       "    }, gamma = {\n",
       "        mc[[1]] &lt;- as.name(\"ensembleBMAgamma\")\n",
       "        if (!is.null(minCRPS)) {\n",
       "            if (minCRPS) warning(\"minCRPS not available for gamma model\")\n",
       "            mc$minCRPS &lt;- NULL\n",
       "        }\n",
       "    }, stop(\"unrecognized model\"))\n",
       "    if (length(attr(ensembleData, \"class\")) &gt; 2) {\n",
       "        attr(ensembleData, \"class\") &lt;- attr(ensembleData, \"class\")[-1]\n",
       "        mc$ensembleData &lt;- ensembleData\n",
       "    }\n",
       "    eval(mc, parent.frame())\n",
       "}</code></pre>"
      ],
      "text/latex": [
       "\\begin{minted}{r}\n",
       "function (ensembleData, trainingDays, dates = NULL, control = NULL, \n",
       "    model = NULL, exchangeable = NULL, minCRPS = NULL) \n",
       "\\{\n",
       "    if (!inherits(ensembleData, \"ensembleData\")) \n",
       "        stop(\"not an ensembleData object\")\n",
       "    mc <- match.call()\n",
       "    mc\\$model <- NULL\n",
       "    switch(model, normal = \\{\n",
       "        mc{[}{[}1{]}{]} <- as.name(\"ensembleBMAnormal\")\n",
       "    \\}, gamma0 = \\{\n",
       "        mc{[}{[}1{]}{]} <- as.name(\"ensembleBMAgamma0\")\n",
       "        if (!is.null(minCRPS)) \\{\n",
       "            if (minCRPS) warning(\"minCRPS not available for gamma0 model\")\n",
       "            mc\\$minCRPS <- NULL\n",
       "        \\}\n",
       "    \\}, gamma = \\{\n",
       "        mc{[}{[}1{]}{]} <- as.name(\"ensembleBMAgamma\")\n",
       "        if (!is.null(minCRPS)) \\{\n",
       "            if (minCRPS) warning(\"minCRPS not available for gamma model\")\n",
       "            mc\\$minCRPS <- NULL\n",
       "        \\}\n",
       "    \\}, stop(\"unrecognized model\"))\n",
       "    if (length(attr(ensembleData, \"class\")) > 2) \\{\n",
       "        attr(ensembleData, \"class\") <- attr(ensembleData, \"class\"){[}-1{]}\n",
       "        mc\\$ensembleData <- ensembleData\n",
       "    \\}\n",
       "    eval(mc, parent.frame())\n",
       "\\}\n",
       "\\end{minted}"
      ],
      "text/markdown": [
       "```r\n",
       "function (ensembleData, trainingDays, dates = NULL, control = NULL, \n",
       "    model = NULL, exchangeable = NULL, minCRPS = NULL) \n",
       "{\n",
       "    if (!inherits(ensembleData, \"ensembleData\")) \n",
       "        stop(\"not an ensembleData object\")\n",
       "    mc <- match.call()\n",
       "    mc$model <- NULL\n",
       "    switch(model, normal = {\n",
       "        mc[[1]] <- as.name(\"ensembleBMAnormal\")\n",
       "    }, gamma0 = {\n",
       "        mc[[1]] <- as.name(\"ensembleBMAgamma0\")\n",
       "        if (!is.null(minCRPS)) {\n",
       "            if (minCRPS) warning(\"minCRPS not available for gamma0 model\")\n",
       "            mc$minCRPS <- NULL\n",
       "        }\n",
       "    }, gamma = {\n",
       "        mc[[1]] <- as.name(\"ensembleBMAgamma\")\n",
       "        if (!is.null(minCRPS)) {\n",
       "            if (minCRPS) warning(\"minCRPS not available for gamma model\")\n",
       "            mc$minCRPS <- NULL\n",
       "        }\n",
       "    }, stop(\"unrecognized model\"))\n",
       "    if (length(attr(ensembleData, \"class\")) > 2) {\n",
       "        attr(ensembleData, \"class\") <- attr(ensembleData, \"class\")[-1]\n",
       "        mc$ensembleData <- ensembleData\n",
       "    }\n",
       "    eval(mc, parent.frame())\n",
       "}\n",
       "```"
      ],
      "text/plain": [
       "function (ensembleData, trainingDays, dates = NULL, control = NULL, \n",
       "    model = NULL, exchangeable = NULL, minCRPS = NULL) \n",
       "{\n",
       "    if (!inherits(ensembleData, \"ensembleData\")) \n",
       "        stop(\"not an ensembleData object\")\n",
       "    mc <- match.call()\n",
       "    mc$model <- NULL\n",
       "    switch(model, normal = {\n",
       "        mc[[1]] <- as.name(\"ensembleBMAnormal\")\n",
       "    }, gamma0 = {\n",
       "        mc[[1]] <- as.name(\"ensembleBMAgamma0\")\n",
       "        if (!is.null(minCRPS)) {\n",
       "            if (minCRPS) warning(\"minCRPS not available for gamma0 model\")\n",
       "            mc$minCRPS <- NULL\n",
       "        }\n",
       "    }, gamma = {\n",
       "        mc[[1]] <- as.name(\"ensembleBMAgamma\")\n",
       "        if (!is.null(minCRPS)) {\n",
       "            if (minCRPS) warning(\"minCRPS not available for gamma model\")\n",
       "            mc$minCRPS <- NULL\n",
       "        }\n",
       "    }, stop(\"unrecognized model\"))\n",
       "    if (length(attr(ensembleData, \"class\")) > 2) {\n",
       "        attr(ensembleData, \"class\") <- attr(ensembleData, \"class\")[-1]\n",
       "        mc$ensembleData <- ensembleData\n",
       "    }\n",
       "    eval(mc, parent.frame())\n",
       "}\n",
       "<environment: namespace:ensembleBMA>"
      ]
     },
     "metadata": {},
     "output_type": "display_data"
    }
   ],
   "source": [
    "ensembleBMA"
   ]
  },
  {
   "cell_type": "code",
   "execution_count": null,
   "metadata": {
    "collapsed": true
   },
   "outputs": [],
   "source": []
  }
 ],
 "metadata": {
  "anaconda-cloud": {},
  "kernelspec": {
   "display_name": "R [conda env:r-env]",
   "language": "R",
   "name": "conda-env-r-env-r"
  },
  "language_info": {
   "codemirror_mode": "r",
   "file_extension": ".r",
   "mimetype": "text/x-r-source",
   "name": "R",
   "pygments_lexer": "r",
   "version": "3.4.1"
  }
 },
 "nbformat": 4,
 "nbformat_minor": 1
}
